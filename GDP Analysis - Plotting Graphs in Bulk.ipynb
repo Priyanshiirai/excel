{
 "cells": [
  {
   "cell_type": "code",
   "execution_count": 40,
   "id": "88698fb0-676d-40f1-9390-dd95a31ab86f",
   "metadata": {},
   "outputs": [
    {
     "data": {
      "text/html": [
       "<div>\n",
       "<style scoped>\n",
       "    .dataframe tbody tr th:only-of-type {\n",
       "        vertical-align: middle;\n",
       "    }\n",
       "\n",
       "    .dataframe tbody tr th {\n",
       "        vertical-align: top;\n",
       "    }\n",
       "\n",
       "    .dataframe thead th {\n",
       "        text-align: right;\n",
       "    }\n",
       "</style>\n",
       "<table border=\"1\" class=\"dataframe\">\n",
       "  <thead>\n",
       "    <tr style=\"text-align: right;\">\n",
       "      <th></th>\n",
       "      <th>Country Name</th>\n",
       "      <th>Country Code</th>\n",
       "      <th>Year</th>\n",
       "      <th>Value</th>\n",
       "      <th>GDP</th>\n",
       "    </tr>\n",
       "  </thead>\n",
       "  <tbody>\n",
       "    <tr>\n",
       "      <th>0</th>\n",
       "      <td>Arab World</td>\n",
       "      <td>ARB</td>\n",
       "      <td>1968</td>\n",
       "      <td>2.576068e+10</td>\n",
       "      <td>0.00</td>\n",
       "    </tr>\n",
       "    <tr>\n",
       "      <th>1</th>\n",
       "      <td>Arab World</td>\n",
       "      <td>ARB</td>\n",
       "      <td>1969</td>\n",
       "      <td>2.843420e+10</td>\n",
       "      <td>10.38</td>\n",
       "    </tr>\n",
       "    <tr>\n",
       "      <th>2</th>\n",
       "      <td>Arab World</td>\n",
       "      <td>ARB</td>\n",
       "      <td>1970</td>\n",
       "      <td>3.138550e+10</td>\n",
       "      <td>10.38</td>\n",
       "    </tr>\n",
       "    <tr>\n",
       "      <th>3</th>\n",
       "      <td>Arab World</td>\n",
       "      <td>ARB</td>\n",
       "      <td>1971</td>\n",
       "      <td>3.642691e+10</td>\n",
       "      <td>16.06</td>\n",
       "    </tr>\n",
       "    <tr>\n",
       "      <th>4</th>\n",
       "      <td>Arab World</td>\n",
       "      <td>ARB</td>\n",
       "      <td>1972</td>\n",
       "      <td>4.331606e+10</td>\n",
       "      <td>18.91</td>\n",
       "    </tr>\n",
       "  </tbody>\n",
       "</table>\n",
       "</div>"
      ],
      "text/plain": [
       "  Country Name Country Code  Year         Value    GDP\n",
       "0   Arab World          ARB  1968  2.576068e+10   0.00\n",
       "1   Arab World          ARB  1969  2.843420e+10  10.38\n",
       "2   Arab World          ARB  1970  3.138550e+10  10.38\n",
       "3   Arab World          ARB  1971  3.642691e+10  16.06\n",
       "4   Arab World          ARB  1972  4.331606e+10  18.91"
      ]
     },
     "execution_count": 40,
     "metadata": {},
     "output_type": "execute_result"
    }
   ],
   "source": [
    "import os\n",
    "import pandas as pd\n",
    "import plotly.express as px\n",
    "import plotly.offline as pyo\n",
    "\n",
    "df = pd.read_csv('gdp.csv')\n",
    "\n",
    "final_data = []\n",
    "\n",
    "for country_name in df['Country Name'].unique():\n",
    "    df_pr = df[df['Country Name'] ==country_name]\n",
    "    data =df_pr.values\n",
    "    gdp_change = [0]\n",
    "\n",
    "    for i in range(1, len(data)):\n",
    "        prev = data[i-1][3]\n",
    "        cur = data[i][3]\n",
    "        gdp_change.append(round(((cur-prev)/prev)*100,2))\n",
    "\n",
    "    df_pr = df_pr.assign(GDP = gdp_change)\n",
    "    final_data.append(df_pr)\n",
    "\n",
    "df = pd.concat(final_data, axis = 0)\n",
    "\n",
    "df.head()"
   ]
  },
  {
   "cell_type": "markdown",
   "id": "02ebf149-2f06-482d-b6d0-98c8442f8bce",
   "metadata": {},
   "source": [
    "## GDP of Each Country"
   ]
  },
  {
   "cell_type": "code",
   "execution_count": 50,
   "id": "8d000480-8850-4754-8a77-bf6795ed7afa",
   "metadata": {},
   "outputs": [],
   "source": [
    "os.mkdir('GDP Individual')\n",
    "\n",
    "for country_name in df['Country Name'].unique():\n",
    "\n",
    "    df_pr = df[df['Country Name']== country_name]\n",
    "    fig =px.line(df_pr, x = 'Year' , y = 'Value' , title = country_name + 'GDP Analysis')\n",
    "    pyo.plot(fig , filename = 'GDP Individual/' + country_name + '.html', auto_open = False) # creted a 'GDP Individual' Folder but there is no grapg in the forlde whereas there should b e 256 graphs \n",
    "    break"
   ]
  },
  {
   "cell_type": "markdown",
   "id": "5f8817ee-5c07-43ea-86a6-05f6b7478421",
   "metadata": {},
   "source": [
    "##GDP   of EACH COUNTRY w.r.t 80T"
   ]
  },
  {
   "cell_type": "code",
   "execution_count": 58,
   "id": "376c906c-7c32-4186-9a29-61b59e90fc77",
   "metadata": {},
   "outputs": [],
   "source": [
    "os.mkdir('GDP Individual WRT World')\n",
    "\n",
    "for country_name in df['Country Name'].unique():\n",
    "\n",
    "    df_pr = df[df['Country Name']== country_name]\n",
    "    fig =px.line(df_pr, x = 'Year' , y = 'Value' , title = country_name + 'GDP Analysis', range_y = [0,80000000000000])\n",
    "    pyo.plot(fig , filename = 'GDP Individual/' + country_name + '.html', autto_open = False) # creted a 'GDP Individual WRT World 'Folder but there is no grapg in the forlde whereas there should b e 256 graphs \n",
    "    break"
   ]
  },
  {
   "cell_type": "code",
   "execution_count": null,
   "id": "ca391395-344a-4aae-94be-24e7f58e270d",
   "metadata": {},
   "outputs": [],
   "source": []
  },
  {
   "cell_type": "code",
   "execution_count": null,
   "id": "1c86bc89-f255-4fd0-a2b1-a9cef800bda4",
   "metadata": {},
   "outputs": [],
   "source": []
  },
  {
   "cell_type": "code",
   "execution_count": null,
   "id": "ea4c752d-2c9b-4fa0-9c5c-2f8e4c4867d2",
   "metadata": {},
   "outputs": [],
   "source": []
  },
  {
   "cell_type": "code",
   "execution_count": null,
   "id": "ef73c871-bee3-4169-9efb-b2917f6382f8",
   "metadata": {},
   "outputs": [],
   "source": []
  }
 ],
 "metadata": {
  "kernelspec": {
   "display_name": "Python [conda env:anaconda3]",
   "language": "python",
   "name": "conda-env-anaconda3-py"
  },
  "language_info": {
   "codemirror_mode": {
    "name": "ipython",
    "version": 3
   },
   "file_extension": ".py",
   "mimetype": "text/x-python",
   "name": "python",
   "nbconvert_exporter": "python",
   "pygments_lexer": "ipython3",
   "version": "3.12.7"
  }
 },
 "nbformat": 4,
 "nbformat_minor": 5
}
